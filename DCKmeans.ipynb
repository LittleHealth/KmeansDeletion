{
 "cells": [
  {
   "cell_type": "code",
   "execution_count": 41,
   "metadata": {},
   "outputs": [],
   "source": [
    "import numpy as np\n",
    "import matplotlib.pyplot as plt\n",
    "import time"
   ]
  },
  {
   "cell_type": "code",
   "execution_count": 42,
   "metadata": {},
   "outputs": [],
   "source": [
    "class Kmeans():\n",
    "    def __init__(self, k, iters=10):\n",
    "        self.k = k\n",
    "        # self.centers = None\n",
    "        # self.centers_idx = []\n",
    "        self.iters = iters\n",
    "        # self.assignments = None\n",
    "        # self.loss = []\n",
    "        \n",
    "    def delete(self, del_idx):\n",
    "        self.data = np.delete(self.data, del_idx, axis=0)\n",
    "        return self.run(self.data)\n",
    "    def run(self, data):\n",
    "        self.n, self.d = data.shape\n",
    "        self.data = data\n",
    "        self.centers = None\n",
    "        self.centers_idx = []\n",
    "        self.assignments = None\n",
    "        self.loss = []\n",
    "        # 先找中心点\n",
    "        self.init_centers()\n",
    "        # 再根据中心点进行聚类\n",
    "        for _ in range(self.iters):\n",
    "            self.assignments = np.zeros(self.n).astype(int)\n",
    "            loss = 0\n",
    "            D = []\n",
    "            # 计算所有点到每个中心的距离\n",
    "            for center in self.centers:\n",
    "                d = np.linalg.norm(data - center, axis=1, ord=2)\n",
    "                D.append(d)\n",
    "            # 到哪个中心距离最短就属于哪个cluster\n",
    "            self.assignments = np.argmin(D, axis=0)\n",
    "            # 损失函数的定义是\n",
    "            loss = np.sum(np.min(D, axis=0)**2)/self.n\n",
    "            # 对每个聚类中心更新，使用聚类内所有点的平均值\n",
    "            for i in range(self.k):\n",
    "                cluster = data[self.assignments == i]\n",
    "                self.centers[i] = np.sum(cluster, axis=0) / len(cluster)\n",
    "                # print(\"center:\",self.centers[i])\n",
    "            self.loss.append(loss)\n",
    "        return self.centers, self.assignments, self.loss\n",
    "    \n",
    "    def init_centers(self):\n",
    "        # 随机找到一个中心点\n",
    "        idx = np.random.choice(self.n)\n",
    "        self.centers_idx.append(idx)\n",
    "        centers = [self.data[idx,:]]\n",
    "        for i in range(1,self.k):\n",
    "            D = []\n",
    "            for center in centers:\n",
    "                # 计算每个点到这个聚类中心的距离\n",
    "                d = np.linalg.norm(self.data - center, axis=1, ord=2)\n",
    "                # d = np.sum((data - center)**2, axis = 1)\n",
    "                D.append(d)\n",
    "            # 一个很严重的问题，numpy的数组操作好多都没有，我该怎么用呢？\n",
    "            # D储存的就是每个点到每个聚类中心的距离\n",
    "            D = np.array(D)\n",
    "            # P是每个点到最近的聚类中心的距离长度\n",
    "            P = np.min(D, axis=0)\n",
    "            # print(\"P:\", P.shape, \"  D:\", D.shape)\n",
    "            ## 转化成概率\n",
    "            #P = P / np.sum(P)\n",
    "            # next_idx = np.random.choice(self.n, p=P)\n",
    "            # 直接把距离最大的给筛选出来，是否需要在距离前几名中进行随机选取？，不然会导致噪声影响太大\n",
    "            next_idx = np.argmax(P)\n",
    "            self.centers_idx.append(next_idx)\n",
    "            centers.append(self.data[next_idx, :])\n",
    "            #print(P.shape, centers)\n",
    "        self.centers = np.array(centers)"
   ]
  },
  {
   "cell_type": "code",
   "execution_count": 51,
   "metadata": {},
   "outputs": [
    {
     "data": {
      "text/plain": [
       "<matplotlib.collections.PathCollection at 0x21e51e28f28>"
      ]
     },
     "execution_count": 51,
     "metadata": {},
     "output_type": "execute_result"
    },
    {
     "data": {
      "image/png": "[encoded data removed]",
      "text/plain": [
       "<Figure size 432x288 with 1 Axes>"
      ]
     },
     "metadata": {
      "needs_background": "light"
     },
     "output_type": "display_data"
    }
   ],
   "source": [
    "N=10\n",
    "covariance = [[1, 0.1], [0.1, 1]]\n",
    "clusters_params = [{ \"mean\": [-5,5], \"cov\": covariance, \"size\": 5*N },\n",
    "                   { \"mean\": [0,0], \"cov\": covariance, \"size\": 5*N },\n",
    "                   { \"mean\": [5,5], \"cov\": covariance, \"size\": 5*N },\n",
    "                   { \"mean\": [5,-5], \"cov\": covariance, \"size\": 5*N },\n",
    "                   { \"mean\": [-5,-5], \"cov\": covariance, \"size\": 8*N }]\n",
    "def sample_gmm(clusters_params):\n",
    "    clusters = []\n",
    "    for param in clusters_params:\n",
    "        cluster = np.random.multivariate_normal(mean=param[\"mean\"], cov=param[\"cov\"], size=param[\"size\"])\n",
    "        clusters.extend(cluster)\n",
    "    return np.array(clusters)\n",
    "\n",
    "data = sample_gmm(clusters_params)\n",
    "plt.scatter(x=data[:,0], y=data[:,1])"
   ]
  },
  {
   "cell_type": "code",
   "execution_count": 43,
   "metadata": {},
   "outputs": [],
   "source": [
    "class DCNode(Kmeans):\n",
    "    def __init__(self, k, iters=10):\n",
    "        Kmeans.__init__(self, k=k,iters=iters)\n",
    "        # 继承自Kmeans，添加children和parent，用于构造树 \n",
    "        self.children = []\n",
    "        self.parent = None\n",
    "        # 当前节点存储的数据\n",
    "        self.node_data = set()\n",
    "        self.data_prop = set()\n",
    "        \n",
    "class DCKmeans():\n",
    "    def __init__(self, ks, widths, iters=10):\n",
    "        self.ks = ks\n",
    "        self.widths = widths\n",
    "        self.dc_tree = self.init_tree(ks, widths, iters)\n",
    "        \n",
    "        self.data_partion_table = dict()\n",
    "        self.data = dict()\n",
    "        self.dels = set()\n",
    "        self.height = len(self.dc_tree)\n",
    "        for i in range(self.height):\n",
    "            self.data[i] = None\n",
    "        \n",
    "    def run(self, data, assignments=False):\n",
    "        self.n, self.d = data.shape\n",
    "        data_layer_size = self.n\n",
    "        # 从height-1减到0，这是为了将储存数据的self.data[i]设置成相应的0矩阵\n",
    "        for i in range(self.height-1, -1, -1):\n",
    "            self.data[i] = np.zeros((data_layer_size, self.d))\n",
    "            print(f\"self.data[{i}].shape:{self.data[i].shape}; data.shape\")\n",
    "            data_layer_size = self.ks[i] * self.widths[i]\n",
    "        # \n",
    "        num_leaves = len(self.dc_tree[-1])\n",
    "        # 对每个数据点，随机抽取一个叶子节点，然后塞到里面去\n",
    "        # TODO 考虑不用for循环\n",
    "        # 所有数据点的表示都使用下标来表示\n",
    "        for i in range(self.n):\n",
    "            leaf_id = np.random.choice(num_leaves)\n",
    "            # 维护划分表，记录每个数据点属于哪个叶子节点\n",
    "            self.data_partion_table[i] = leaf_id\n",
    "            # leaf维护自己当前存储的数据点\n",
    "            leaf = self.dc_tree[-1][leaf_id]\n",
    "            leaf.node_data.add(i)\n",
    "            # 前面初始化过data[k]，此时将data[k]的第i行设置为第i个数据\n",
    "            self.data[self.height-1][i] = data[i]\n",
    "        for h in range(self.height-1, -1, -1):\n",
    "            c = 0\n",
    "            for w in range(self.widths[h]):\n",
    "                subproblem = self.dc_tree[h][w]\n",
    "                # 将当前高度height/层数level 进行聚类\n",
    "                subproblem.run(self.data[h])\n",
    "                if subproblem.parent == None:\n",
    "                    # 到根节点了\n",
    "                    self.centers = subproblem.centers\n",
    "                else:\n",
    "                    for c_id in range(len(subproblem.centers)):\n",
    "                        # ?这段代码没看懂\n",
    "                        subproblem.data_prop.add(c)\n",
    "                        subproblem.parent.node_data.add(c)\n",
    "                        self.data[h-1][c] = subproblem.centers[c_id]\n",
    "                        c +=1\n",
    "        # 如果要求assignments，退化到原始的Kmeans算法；所以每次都只是按照不返回assignments实验\n",
    "        return self.centers\n",
    "        \n",
    "    \n",
    "    def init_tree(self, ks, widths, iters):\n",
    "        print(\"init_tree:\", ks, widths, iters)\n",
    "        tree = [[DCNode(ks[0],iters)]] # 根节点\n",
    "        for i in range(1, len(widths)):\n",
    "            k = ks[i]\n",
    "            assert widths[i] % widths[i-1] == 0, \"Inconsistent widths in tree\"\n",
    "            # 下一层节点的数量的整数倍\n",
    "            merge_factor = int(widths[i] / widths[i-1]) \n",
    "            level = []\n",
    "            for j in range(widths[i-1]):\n",
    "                parent = tree[i-1][j]\n",
    "                for _ in range(merge_factor):\n",
    "                    child = DCNode(k, iters=10)\n",
    "                    child.parent = parent\n",
    "                    parent.children.append(child)\n",
    "                    level.append(child)\n",
    "            tree.append(level)\n",
    "        return tree "
   ]
  },
  {
   "cell_type": "code",
   "execution_count": 52,
   "metadata": {},
   "outputs": [
    {
     "name": "stdout",
     "output_type": "stream",
     "text": [
      "init_tree: [5, 5] [1, 16] 10\n",
      "self.data[1].shape:(280, 2); data.shape\n",
      "self.data[0].shape:(80, 2); data.shape\n",
      "[[ 0.04754262  0.09595668]\n",
      " [-5.09381807 -5.16236764]\n",
      " [ 4.91838968  5.24959691]\n",
      " [-4.90832108  5.14049151]\n",
      " [ 4.83551247 -4.96698171]]\n"
     ]
    },
    {
     "data": {
      "text/plain": [
       "<matplotlib.collections.PathCollection at 0x21e51be9d68>"
      ]
     },
     "execution_count": 52,
     "metadata": {},
     "output_type": "execute_result"
    },
    {
     "data": {
      "image/png": "[encoded data removed]",
      "text/plain": [
       "<Figure size 432x288 with 1 Axes>"
      ]
     },
     "metadata": {
      "needs_background": "light"
     },
     "output_type": "display_data"
    }
   ],
   "source": [
    "dckmeans=DCKmeans([5,5], [1,16])\n",
    "centers = dckmeans.run(data.copy(),assignments=False)\n",
    "print(centers)\n",
    "plt.scatter(x=data[:,0], y=data[:,1])\n",
    "plt.scatter(x=centers[:,0], y=centers[:,1], c='k', marker='+', s=180)"
   ]
  },
  {
   "cell_type": "code",
   "execution_count": 45,
   "metadata": {},
   "outputs": [],
   "source": [
    "def show_cluster(centers, assignments, data):\n",
    "    plt.scatter(x=data[:,0], y=data[:,1], c=assignments)\n",
    "    plt.scatter(x=centers[:,0], y=centers[:,1], c='k', marker='+', s=180)"
   ]
  },
  {
   "cell_type": "code",
   "execution_count": 28,
   "metadata": {},
   "outputs": [],
   "source": [
    "def online_deletion_stream(num_dels, model):\n",
    "    begin = time.time()\n",
    "    for i in range(num_dels):\n",
    "        dr = np.random.choice(model.n)\n",
    "        model.delete(dr)\n",
    "        # print(f\"process deletion request # {i+1}, cost time: {time.time()-begin}\")\n",
    "    end = time.time()\n",
    "    print(f\"Total time to process {num_dels} deletions is {end - begin}\")"
   ]
  },
  {
   "cell_type": "code",
   "execution_count": 29,
   "metadata": {},
   "outputs": [
    {
     "name": "stdout",
     "output_type": "stream",
     "text": [
      "Total time to process 20 deletions is 0.10602998733520508\n"
     ]
    }
   ],
   "source": [
    "online_deletion_stream(20, kmeans)"
   ]
  }
 ],
 "metadata": {
  "kernelspec": {
   "display_name": "Python 3",
   "language": "python",
   "name": "python3"
  },
  "language_info": {
   "codemirror_mode": {
    "name": "ipython",
    "version": 3
   },
   "file_extension": ".py",
   "mimetype": "text/x-python",
   "name": "python",
   "nbconvert_exporter": "python",
   "pygments_lexer": "ipython3",
   "version": "3.6.12"
  }
 },
 "nbformat": 4,
 "nbformat_minor": 4
}
