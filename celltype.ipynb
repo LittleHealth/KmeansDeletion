{
 "cells": [
  {
   "cell_type": "markdown",
   "metadata": {},
   "source": [
    "### 数据集：细胞类型\n",
    "前18\\*4列数据中每4列代表一个DNA序列，其可能为A,G,C,T，对应列数据为1，其他列数据为0。因此直接使用欧氏距离即可计算相似度。\n",
    "\n",
    "后2列分别为Type和Tissue，是表示其细胞类型和取自哪一个组织的标签，聚类评价时使用。\n",
    "\n",
    "数据集为celltype.csv"
   ]
  },
  {
   "cell_type": "code",
   "execution_count": null,
   "metadata": {},
   "outputs": [],
   "source": [
    "import pandas as pd\n",
    "import numpy as np\n",
    "\n",
    "dataset=pd.read_csv('celltype.csv')\n",
    "#dataset"
   ]
  },
  {
   "cell_type": "code",
   "execution_count": null,
   "metadata": {},
   "outputs": [],
   "source": [
    "cols=dataset.columns\n",
    "col1=cols[0:-2]\n",
    "data=dataset[col1]\n",
    "data=np.array(data)\n",
    "\n",
    "#print(data)"
   ]
  },
  {
   "cell_type": "code",
   "execution_count": null,
   "metadata": {},
   "outputs": [],
   "source": [
    "from QKmeans import QKmeans\n",
    "k=20\n",
    "qkmeans = QKmeans(k,0.05)\n",
    "data=data[0:50000,:]\n",
    "centers, assignments, loss = qkmeans.train(data)\n",
    "#assignments"
   ]
  },
  {
   "cell_type": "code",
   "execution_count": null,
   "metadata": {},
   "outputs": [],
   "source": []
  }
 ],
 "metadata": {
  "kernelspec": {
   "display_name": "Python 3",
   "language": "python",
   "name": "python3"
  },
  "language_info": {
   "codemirror_mode": {
    "name": "ipython",
    "version": 3
   },
   "file_extension": ".py",
   "mimetype": "text/x-python",
   "name": "python",
   "nbconvert_exporter": "python",
   "pygments_lexer": "ipython3",
   "version": "3.7.4"
  }
 },
 "nbformat": 4,
 "nbformat_minor": 4
}
