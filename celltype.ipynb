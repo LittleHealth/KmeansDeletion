{
 "cells": [
  {
   "cell_type": "markdown",
   "metadata": {},
   "source": [
    "### 数据集：细胞类型\n",
    "前18\\*4列数据中每4列代表一个DNA序列，其可能为A,G,C,T，对应列数据为1，其他列数据为0。因此直接使用欧氏距离即可计算相似度。\n",
    "\n",
    "后2列分别为Type和Tissue，是表示其细胞类型和取自哪一个组织的标签，聚类评价时使用。\n",
    "\n",
    "数据集为celltype.csv"
   ]
  },
  {
   "cell_type": "code",
   "execution_count": 1,
   "metadata": {},
   "outputs": [],
   "source": [
    "import pandas as pd\n",
    "import numpy as np\n",
    "\n",
    "dataset=pd.read_csv('./data/celltype.csv')\n",
    "#dataset"
   ]
  },
  {
   "cell_type": "code",
   "execution_count": 2,
   "metadata": {},
   "outputs": [],
   "source": [
    "cols=dataset.columns\n",
    "col1=cols[0:-2]\n",
    "data=dataset[col1]\n",
    "data=np.array(data)\n",
    "\n",
    "#print(data)"
   ]
  },
  {
   "cell_type": "code",
   "execution_count": 3,
   "metadata": {},
   "outputs": [],
   "source": [
    "from QKmeans import QKmeans\n",
    "from DCKmeans import DCKmeans\n",
    "from utils import *"
   ]
  },
  {
   "cell_type": "code",
   "execution_count": 4,
   "metadata": {
    "pycharm": {
     "name": "#%%\n"
    }
   },
   "outputs": [],
   "source": [
    "k=20\n",
    "\n",
    "data=data[0:50000,:]\n",
    "qkmeans = QKmeans(k,0.05)\n",
    "centers, assignments, loss = qkmeans.run(data)\n",
    "dckmeans = DCKmeans([k,k,k],[1,16,256])\n",
    "centers, assignments, loss = dckmeans.run(data)"
   ]
  },
  {
   "cell_type": "code",
   "execution_count": 5,
   "metadata": {},
   "outputs": [
    {
     "name": "stdout",
     "output_type": "stream",
     "text": [
      "processing deletion request # 1...\n",
      "processing deletion request # 11...\n",
      "processing deletion request # 21...\n",
      "processing deletion request # 31...\n",
      "processing deletion request # 41...\n",
      "processing deletion request # 51...\n",
      "processing deletion request # 61...\n",
      "processing deletion request # 71...\n",
      "processing deletion request # 81...\n",
      "processing deletion request # 91...\n",
      "Total time to process 100 deletions is 1554.21093416214\n"
     ]
    }
   ],
   "source": [
    "online_deletion_stream(100, qkmeans)"
   ]
  },
  {
   "cell_type": "code",
   "execution_count": 6,
   "metadata": {},
   "outputs": [
    {
     "name": "stdout",
     "output_type": "stream",
     "text": [
      "processing deletion request # 1...\n",
      "processing deletion request # 11...\n",
      "processing deletion request # 21...\n",
      "processing deletion request # 31...\n",
      "processing deletion request # 41...\n",
      "processing deletion request # 51...\n",
      "processing deletion request # 61...\n",
      "processing deletion request # 71...\n",
      "processing deletion request # 81...\n",
      "processing deletion request # 91...\n",
      "Total time to process 100 deletions is 4.6390626430511475\n"
     ]
    }
   ],
   "source": [
    "online_deletion_stream(100, dckmeans)"
   ]
  }
 ],
 "metadata": {
  "kernelspec": {
   "display_name": "Python 3",
   "language": "python",
   "name": "python3"
  },
  "language_info": {
   "codemirror_mode": {
    "name": "ipython",
    "version": 3
   },
   "file_extension": ".py",
   "mimetype": "text/x-python",
   "name": "python",
   "nbconvert_exporter": "python",
   "pygments_lexer": "ipython3",
   "version": "3.6.12"
  }
 },
 "nbformat": 4,
 "nbformat_minor": 4
}
